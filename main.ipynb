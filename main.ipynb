{
 "cells": [
  {
   "cell_type": "code",
   "execution_count": 13,
   "id": "728cb513-65a0-4f3d-9fb7-65371f323449",
   "metadata": {},
   "outputs": [],
   "source": []
  },
  {
   "cell_type": "code",
   "execution_count": 14,
   "id": "8243a872-807a-4242-8cc8-4e1d243c9870",
   "metadata": {},
   "outputs": [],
   "source": [
    "def main():\n",
    "\n",
    "    elements = input().split()\n",
    "\n",
    "    if elements == ['стоп']:\n",
    "        return \"Работа калькулятора завершена\"\n",
    "    else:\n",
    "        elements[0] = float(elements[0])\n",
    "        elements[2] = float(elements[2])\n",
    "        if elements[1] == '/':\n",
    "            res = division(elements[0], elements[2])\n",
    "            print(res)\n",
    "        elif elements[1] == '+':\n",
    "            res = addition(elements[0], elements[2])\n",
    "            print(res)   \n",
    "        elif elements[1] == '*':\n",
    "            res = multiplication(elements[0], elements[2])\n",
    "            print(res)\n",
    "        elif elements[1] == '-':\n",
    "            res = subtraction(elements[0], elements[2])\n",
    "            print(res)\n",
    "        main()\n",
    "    "
   ]
  },
  {
   "cell_type": "code",
   "execution_count": null,
   "id": "8194ff55-2729-46e3-b97b-f54e367a35ad",
   "metadata": {},
   "outputs": [
    {
     "name": "stdout",
     "output_type": "stream",
     "text": [
      "Добро пожаловать в калькулятор. Введите строку в таком виде: \"5 + 9\". \n",
      "Чтобы закончить работу с калькулятором, введите \"стоп\".\n"
     ]
    }
   ],
   "source": [
    "print('''Добро пожаловать в калькулятор. Введите строку в таком виде: \"5 + 9\". \n",
    "Чтобы закончить работу с калькулятором, введите \"стоп\".''')      \n",
    "main()\n",
    "\n"
   ]
  },
  {
   "cell_type": "code",
   "execution_count": null,
   "id": "37136ff7-0051-40a1-970a-2b11ad393796",
   "metadata": {},
   "outputs": [],
   "source": []
  },
  {
   "cell_type": "code",
   "execution_count": null,
   "id": "0549de3e-f717-41ac-b681-66156509b000",
   "metadata": {},
   "outputs": [],
   "source": []
  },
  {
   "cell_type": "code",
   "execution_count": null,
   "id": "c8242319-7ce0-4bce-a2e7-b9a73dc0e589",
   "metadata": {},
   "outputs": [],
   "source": []
  }
 ],
 "metadata": {
  "kernelspec": {
   "display_name": "Python 3 (ipykernel)",
   "language": "python",
   "name": "python3"
  },
  "language_info": {
   "codemirror_mode": {
    "name": "ipython",
    "version": 3
   },
   "file_extension": ".py",
   "mimetype": "text/x-python",
   "name": "python",
   "nbconvert_exporter": "python",
   "pygments_lexer": "ipython3",
   "version": "3.12.4"
  }
 },
 "nbformat": 4,
 "nbformat_minor": 5
}
